{
 "cells": [
  {
   "attachments": {},
   "cell_type": "markdown",
   "metadata": {},
   "source": [
    "# DSC 275/475: Time Series Analysis and Forecasting (Fall 2019) \n",
    "## Project 2.2 – Sequence Classification with Recurrent Neural Networks \n",
    "### Chunlei Zhou"
   ]
  },
  {
   "cell_type": "markdown",
   "metadata": {},
   "source": [
    "#### Develop Helper Functions"
   ]
  },
  {
   "cell_type": "code",
   "execution_count": 1,
   "metadata": {},
   "outputs": [],
   "source": [
    "from __future__ import unicode_literals, print_function, division\n",
    "from io import open\n",
    "import glob\n",
    "import os\n",
    "import unicodedata\n",
    "import string\n",
    "import torch\n",
    "import torch.nn as nn\n",
    "import random\n",
    "from torch.nn.utils.rnn import pad_packed_sequence\n",
    "import numpy as np\n",
    "from sklearn.model_selection import KFold\n",
    "from sklearn.model_selection import StratifiedKFold\n",
    "from torch import LongTensor\n",
    "from torch.nn import Embedding\n",
    "from sklearn.metrics import accuracy_score\n",
    "from torch.autograd import Variable"
   ]
  },
  {
   "cell_type": "code",
   "execution_count": 2,
   "metadata": {},
   "outputs": [],
   "source": [
    "class RNN(nn.Module):\n",
    "    def __init__(self, input_size, hidden_size, output_size):\n",
    "        super(RNN, self).__init__()\n",
    "\n",
    "        self.hidden_size = hidden_size\n",
    "        self.i2h = nn.Linear(input_size + hidden_size, hidden_size)\n",
    "        self.i2o = nn.Linear(input_size + hidden_size, output_size)\n",
    "        self.softmax = nn.LogSoftmax(dim=1)\n",
    "\n",
    "    def forward(self, input, hidden):\n",
    "        combined = torch.cat((input, hidden), 1)\n",
    "        hidden = self.i2h(combined)\n",
    "        output = self.i2o(combined)\n",
    "        output = self.softmax(output)\n",
    "        return output, hidden\n",
    "\n",
    "    def initHidden(self):\n",
    "        return torch.zeros(1, self.hidden_size)"
   ]
  },
  {
   "cell_type": "code",
   "execution_count": 3,
   "metadata": {},
   "outputs": [],
   "source": [
    "def findFiles(path):\n",
    "    return glob.glob(path)\n",
    "\n",
    "all_letters = string.ascii_letters + \" .,;'\"\n",
    "n_letters = len(all_letters)\n",
    "\n",
    "# Turn a Unicode string to plain ASCII, thanks to https://stackoverflow.com/a/518232/2809427\n",
    "def unicodeToAscii(s):\n",
    "    return ''.join(\n",
    "        c for c in unicodedata.normalize('NFD', s)\n",
    "        if unicodedata.category(c) != 'Mn'\n",
    "        and c in all_letters)\n",
    "\n",
    "# Build the category_lines dictionary, a list of names per language\n",
    "category_lines = {}\n",
    "all_categories = []\n",
    "\n",
    "# Read a file and split into lines\n",
    "def readLines(filename):\n",
    "    lines = open(filename, encoding='utf-8').read().strip().split('\\n')\n",
    "    return [unicodeToAscii(line) for line in lines]\n",
    "\n",
    "for filename in findFiles('data/names/*.txt'):\n",
    "    category = os.path.splitext(os.path.basename(filename))[0]\n",
    "    all_categories.append(category)\n",
    "    lines = readLines(filename)\n",
    "    category_lines[category] = lines\n",
    "\n",
    "n_categories = len(all_categories)\n",
    "\n",
    "def findName(dict, name):\n",
    "    keys = dict.keys()\n",
    "    for key in keys:\n",
    "        if name in dict[key]:\n",
    "            return key\n",
    "    return ''\n",
    "\n",
    "# Find letter index from all_letters, e.g. \"a\" = 0\n",
    "def letterToIndex(letter):\n",
    "    return all_letters.find(letter)\n",
    "\n",
    "# Turn a line into a <line_length x 1 x n_letters>, or an array of one-hot letter vectors\n",
    "def lineToTensor(line):\n",
    "    tensor = torch.zeros(len(line), 1, n_letters)\n",
    "    for li, letter in enumerate(line):\n",
    "        tensor[li][0][letterToIndex(letter)] = 1\n",
    "    return tensor\n",
    "\n",
    "# Interpret output\n",
    "def categoryFromOutput(output):\n",
    "    top_n, top_i = output.topk(1)\n",
    "    category_i = top_i[0].item()\n",
    "    return all_categories[category_i], category_i\n",
    "\n",
    "# Get a training example (a name and its language):\n",
    "def randomChoice(l):\n",
    "    return l[random.randint(0, len(l) - 1)]\n",
    "\n",
    "def randomTrainingExample():\n",
    "    category = randomChoice(all_categories)\n",
    "    line = randomChoice(category_lines[category])\n",
    "    category_tensor = torch.tensor([all_categories.index(category)], dtype=torch.long)\n",
    "    line_tensor = lineToTensor(line)\n",
    "    return category, line, category_tensor, line_tensor\n",
    "\n",
    "def train(category_tensor, line_tensor):\n",
    "    hidden = rnn.initHidden()\n",
    "    rnn.zero_grad()\n",
    "    for i in range(line_tensor.size()[0]):\n",
    "        output, hidden = rnn(line_tensor[i], hidden)\n",
    "    loss = criterion(output, category_tensor)\n",
    "    loss.backward()\n",
    "    # Add parameters' gradients to their values, multiplied by learning rate\n",
    "    for p in rnn.parameters():\n",
    "        p.data.add_(-learning_rate, p.grad.data)\n",
    "    return output, loss.item()\n",
    "\n",
    "# Just return an output given a line\n",
    "def evaluate(line_tensor):\n",
    "    hidden = rnn.initHidden()\n",
    "    for i in range(line_tensor.size()[0]):\n",
    "        output, hidden = rnn(line_tensor[i], hidden)\n",
    "    return output\n",
    "\n",
    "# Construct a Data Frame\n",
    "def data_frame(category_lines):\n",
    "    data_frame = [[],[]]\n",
    "    for key in all_categories:\n",
    "        for value in category_lines[key]:\n",
    "            data_frame[0].append(value)\n",
    "            data_frame[1].append(key)\n",
    "    return data_frame"
   ]
  },
  {
   "attachments": {},
   "cell_type": "markdown",
   "metadata": {},
   "source": [
    "# 1. Systematic processing of data"
   ]
  },
  {
   "cell_type": "code",
   "execution_count": 4,
   "metadata": {},
   "outputs": [],
   "source": [
    "criterion = nn.NLLLoss()\n",
    "learning_rate = 0.005\n",
    "n_iters = 100000\n",
    "n_hiddens = [32, 64, 128]"
   ]
  },
  {
   "cell_type": "code",
   "execution_count": 5,
   "metadata": {},
   "outputs": [],
   "source": [
    "DF = data_frame(category_lines)\n",
    "total_samples = len(DF[0])\n",
    "randomize_order = np.arange(0, total_samples)"
   ]
  },
  {
   "cell_type": "markdown",
   "metadata": {},
   "source": [
    "## 1.1 Effect of hidden state length: "
   ]
  },
  {
   "cell_type": "code",
   "execution_count": 19,
   "metadata": {},
   "outputs": [
    {
     "name": "stdout",
     "output_type": "stream",
     "text": [
      "======= 1.1 Accuracy Report =======\n",
      "n_hidden = 32: Accuracy is 0.501594\n",
      "n_hidden = 64: Accuracy is 0.559978\n",
      "n_hidden = 128: Accuracy is 0.611537\n"
     ]
    }
   ],
   "source": [
    "print('======= 1.1 Accuracy Report =======')\n",
    "for n_hidden in n_hiddens:\n",
    "    rnn = RNN(n_letters, n_hidden, n_categories)\n",
    "    current_loss = 0\n",
    "    all_losses = []\n",
    "    for iter in range(1, n_iters + 1):\n",
    "        category, line, category_tensor, line_tensor = randomTrainingExample()\n",
    "        output, loss = train(category_tensor, line_tensor)\n",
    "        current_loss += loss\n",
    "    '''confusion = torch.zeros(n_categories, n_categories)\n",
    "    n_confusion = 20000\n",
    "    for i in range(n_confusion):\n",
    "        category, line, category_tensor, line_tensor = randomTrainingExample()\n",
    "        output = evaluate(line_tensor)\n",
    "        guess, guess_i = categoryFromOutput(output)\n",
    "        category_i = all_categories.index(category)\n",
    "        confusion[category_i][guess_i] += 1\n",
    "    accuracy = sum(confusion.diag()) / sum(sum(confusion))\n",
    "    print('n_hidden=', str(n_hidden)+':', 'Accuracy is %f' % accuracy.item())'''\n",
    "    confusion = torch.zeros(n_categories, n_categories)\n",
    "    n_confusion = total_samples\n",
    "    for i in range(n_confusion):\n",
    "        category = DF[1][i]\n",
    "        line = DF[0][i]\n",
    "        category_tensor = torch.tensor([all_categories.index(category)], dtype=torch.long)\n",
    "        line_tensor = lineToTensor(line)\n",
    "        output = evaluate(line_tensor)\n",
    "        guess, guess_i = categoryFromOutput(output)\n",
    "        category_i = all_categories.index(category)\n",
    "        confusion[category_i][guess_i] += 1\n",
    "    accuracy = sum(confusion.diag()) / sum(sum(confusion))\n",
    "    print('n_hidden =', str(n_hidden)+':', 'Accuracy is %f' % accuracy.item())"
   ]
  },
  {
   "attachments": {},
   "cell_type": "markdown",
   "metadata": {},
   "source": [
    "## 1.2\tEffect of systematic training:"
   ]
  },
  {
   "cell_type": "code",
   "execution_count": 9,
   "metadata": {},
   "outputs": [
    {
     "name": "stdout",
     "output_type": "stream",
     "text": [
      "======= 1.2 Accuracy Report =======\n",
      "n_hidden = 32: Accuracy is 0.739464\n",
      "n_hidden = 64: Accuracy is 0.752067\n",
      "n_hidden = 128: Accuracy is 0.750573\n"
     ]
    }
   ],
   "source": [
    "n_epoch = 5\n",
    "print('======= 1.2 Accuracy Report =======')\n",
    "for n_hidden in n_hiddens:\n",
    "    rnn = RNN(n_letters, n_hidden, n_categories)\n",
    "    current_loss = 0\n",
    "    all_losses = []\n",
    "    for epoch in range(n_epoch):\n",
    "        np.random.shuffle(randomize_order)\n",
    "        for order in randomize_order:\n",
    "            category = DF[1][order]\n",
    "            line = DF[0][order]\n",
    "            category_tensor = torch.tensor([all_categories.index(category)], dtype=torch.long)\n",
    "            line_tensor = lineToTensor(line)\n",
    "            output, loss = train(category_tensor, line_tensor)\n",
    "            current_loss += loss\n",
    "    confusion = torch.zeros(n_categories, n_categories)\n",
    "    n_confusion = total_samples\n",
    "    for i in range(n_confusion):\n",
    "        category = DF[1][i]\n",
    "        line = DF[0][i]\n",
    "        category_tensor = torch.tensor([all_categories.index(category)], dtype=torch.long)\n",
    "        line_tensor = lineToTensor(line)\n",
    "        output = evaluate(line_tensor)\n",
    "        guess, guess_i = categoryFromOutput(output)\n",
    "        category_i = all_categories.index(category)\n",
    "        confusion[category_i][guess_i] += 1\n",
    "    accuracy = sum(confusion.diag()) / sum(sum(confusion))\n",
    "    print('n_hidden =', str(n_hidden)+':', 'Accuracy is %f' % accuracy.item())"
   ]
  },
  {
   "attachments": {},
   "cell_type": "markdown",
   "metadata": {},
   "source": [
    "# 2. Batch training of data\n",
    "## 2.1 batch size equals to the number of total samples"
   ]
  },
  {
   "cell_type": "code",
   "execution_count": 10,
   "metadata": {},
   "outputs": [],
   "source": [
    "class RNN_Batch(nn.Module):\n",
    "    def __init__(self):\n",
    "        super(RNN_Batch, self).__init__()\n",
    "        self.rnn = nn.RNN(\n",
    "            input_size=n_letters,\n",
    "            hidden_size=128,  # number of hidden units\n",
    "            num_layers=1,  # number of layers\n",
    "            batch_first=True,\n",
    "        )\n",
    "        self.out = nn.Linear(128, n_categories)\n",
    "\n",
    "    def forward(self, x):\n",
    "        r_out, h = self.rnn(x, None)\n",
    "        out = self.out(r_out[:,-1,:])\n",
    "        return out"
   ]
  },
  {
   "cell_type": "code",
   "execution_count": 11,
   "metadata": {},
   "outputs": [
    {
     "name": "stdout",
     "output_type": "stream",
     "text": [
      "['Abl', 'Adsit', 'Ajdrna', 'Alt', 'Antonowitsch']\n",
      "[[5, 32, 42], [5, 34, 49, 39, 50], [5, 40, 34, 48, 44, 31], [5, 42, 50], [5, 44, 50, 45, 44, 45, 53, 39, 50, 49, 33, 38]]\n",
      "tensor([[ 5, 32, 42,  ...,  0,  0,  0],\n",
      "        [ 5, 34, 49,  ...,  0,  0,  0],\n",
      "        [ 5, 40, 34,  ...,  0,  0,  0],\n",
      "        ...,\n",
      "        [30, 39, 35,  ...,  0,  0,  0],\n",
      "        [30, 39, 35,  ...,  0,  0,  0],\n",
      "        [30, 51, 48,  ...,  0,  0,  0]])\n"
     ]
    },
    {
     "data": {
      "text/plain": [
       "torch.Size([20074, 19])"
      ]
     },
     "execution_count": 11,
     "metadata": {},
     "output_type": "execute_result"
    }
   ],
   "source": [
    "feature = sorted(set(all_letters))\n",
    "vectorized_seqs = [[feature.index(tok) for tok in seq]for seq in DF[0]]\n",
    "print(DF[0][:5])\n",
    "print(vectorized_seqs[:5])\n",
    "embed = Embedding(len(feature), n_letters)\n",
    "seq_lengths = LongTensor(list(map(len, vectorized_seqs)))\n",
    "seq_tensor = Variable(torch.zeros((len(vectorized_seqs), seq_lengths.max()))).long()\n",
    "for idx, (seq, seqlen) in enumerate(zip(vectorized_seqs, seq_lengths)):\n",
    "    seq_tensor[idx, :seqlen] = LongTensor(seq)\n",
    "print(seq_tensor)\n",
    "seq_tensor.shape"
   ]
  },
  {
   "cell_type": "code",
   "execution_count": 12,
   "metadata": {},
   "outputs": [
    {
     "name": "stdout",
     "output_type": "stream",
     "text": [
      "tensor([[[-0.7398, -0.3902,  2.0187,  ..., -1.7117, -0.8145, -1.1097],\n",
      "         [-3.1747,  0.1271,  0.3276,  ...,  0.5612,  0.1623, -0.3170],\n",
      "         [ 0.9891, -1.2607,  0.0034,  ..., -1.2647,  0.2993,  0.4709],\n",
      "         ...,\n",
      "         [ 1.4679, -1.1027,  1.0512,  ...,  1.8358,  0.4319,  0.2594],\n",
      "         [ 1.4679, -1.1027,  1.0512,  ...,  1.8358,  0.4319,  0.2594],\n",
      "         [ 1.4679, -1.1027,  1.0512,  ...,  1.8358,  0.4319,  0.2594]],\n",
      "\n",
      "        [[-0.7398, -0.3902,  2.0187,  ..., -1.7117, -0.8145, -1.1097],\n",
      "         [-0.3177,  0.1200, -0.5708,  ...,  0.1609, -0.6413, -0.4806],\n",
      "         [-1.3222,  0.5761, -0.9121,  ...,  1.8669,  0.7281, -0.5886],\n",
      "         ...,\n",
      "         [ 1.4679, -1.1027,  1.0512,  ...,  1.8358,  0.4319,  0.2594],\n",
      "         [ 1.4679, -1.1027,  1.0512,  ...,  1.8358,  0.4319,  0.2594],\n",
      "         [ 1.4679, -1.1027,  1.0512,  ...,  1.8358,  0.4319,  0.2594]],\n",
      "\n",
      "        [[-0.7398, -0.3902,  2.0187,  ..., -1.7117, -0.8145, -1.1097],\n",
      "         [ 1.0272,  0.9946,  1.4481,  ...,  1.1359, -0.0747,  0.7732],\n",
      "         [-0.3177,  0.1200, -0.5708,  ...,  0.1609, -0.6413, -0.4806],\n",
      "         ...,\n",
      "         [ 1.4679, -1.1027,  1.0512,  ...,  1.8358,  0.4319,  0.2594],\n",
      "         [ 1.4679, -1.1027,  1.0512,  ...,  1.8358,  0.4319,  0.2594],\n",
      "         [ 1.4679, -1.1027,  1.0512,  ...,  1.8358,  0.4319,  0.2594]],\n",
      "\n",
      "        ...,\n",
      "\n",
      "        [[ 0.9372,  1.3770, -0.9816,  ..., -0.5137,  2.7295, -0.4145],\n",
      "         [-0.8954, -0.6919, -1.6904,  ...,  0.2021, -0.6794,  0.6236],\n",
      "         [-0.8253, -1.1903, -1.1326,  ..., -0.9358,  3.0522, -0.0133],\n",
      "         ...,\n",
      "         [ 1.4679, -1.1027,  1.0512,  ...,  1.8358,  0.4319,  0.2594],\n",
      "         [ 1.4679, -1.1027,  1.0512,  ...,  1.8358,  0.4319,  0.2594],\n",
      "         [ 1.4679, -1.1027,  1.0512,  ...,  1.8358,  0.4319,  0.2594]],\n",
      "\n",
      "        [[ 0.9372,  1.3770, -0.9816,  ..., -0.5137,  2.7295, -0.4145],\n",
      "         [-0.8954, -0.6919, -1.6904,  ...,  0.2021, -0.6794,  0.6236],\n",
      "         [-0.8253, -1.1903, -1.1326,  ..., -0.9358,  3.0522, -0.0133],\n",
      "         ...,\n",
      "         [ 1.4679, -1.1027,  1.0512,  ...,  1.8358,  0.4319,  0.2594],\n",
      "         [ 1.4679, -1.1027,  1.0512,  ...,  1.8358,  0.4319,  0.2594],\n",
      "         [ 1.4679, -1.1027,  1.0512,  ...,  1.8358,  0.4319,  0.2594]],\n",
      "\n",
      "        [[ 0.9372,  1.3770, -0.9816,  ..., -0.5137,  2.7295, -0.4145],\n",
      "         [ 0.8757,  1.6971,  0.5442,  ..., -0.5002,  0.2044, -0.7620],\n",
      "         [ 1.7349, -2.3067,  0.1037,  ...,  0.4114, -1.2958,  0.5880],\n",
      "         ...,\n",
      "         [ 1.4679, -1.1027,  1.0512,  ...,  1.8358,  0.4319,  0.2594],\n",
      "         [ 1.4679, -1.1027,  1.0512,  ...,  1.8358,  0.4319,  0.2594],\n",
      "         [ 1.4679, -1.1027,  1.0512,  ...,  1.8358,  0.4319,  0.2594]]],\n",
      "       grad_fn=<EmbeddingBackward>)\n"
     ]
    },
    {
     "data": {
      "text/plain": [
       "torch.Size([20074, 19, 57])"
      ]
     },
     "execution_count": 12,
     "metadata": {},
     "output_type": "execute_result"
    }
   ],
   "source": [
    "embedded_seq_tensor = embed(seq_tensor)\n",
    "print(embedded_seq_tensor)\n",
    "embedded_seq_tensor.shape"
   ]
  },
  {
   "cell_type": "code",
   "execution_count": 13,
   "metadata": {},
   "outputs": [
    {
     "name": "stdout",
     "output_type": "stream",
     "text": [
      "['Czech', 'Czech', 'Czech', 'Czech', 'Czech']\n",
      "[2, 2, 2, 2, 2]\n"
     ]
    },
    {
     "data": {
      "text/plain": [
       "torch.Size([20074])"
      ]
     },
     "execution_count": 13,
     "metadata": {},
     "output_type": "execute_result"
    }
   ],
   "source": [
    "target = sorted(set(all_categories))\n",
    "vectorized_y = [target.index(tok) for tok in DF[1]]\n",
    "print(DF[1][:5])\n",
    "print(vectorized_y[:5])\n",
    "target_tensor = torch.tensor(vectorized_y,dtype = torch.long)\n",
    "target_tensor.shape"
   ]
  },
  {
   "cell_type": "code",
   "execution_count": 14,
   "metadata": {},
   "outputs": [
    {
     "name": "stdout",
     "output_type": "stream",
     "text": [
      "======= 2.1 Accuracy Report =======\n",
      "Batch Size: 20074\n"
     ]
    }
   ],
   "source": [
    "n_hidden = 128\n",
    "batch_size = total_samples\n",
    "print('======= 2.1 Accuracy Report =======')\n",
    "print('Batch Size:', batch_size)"
   ]
  },
  {
   "cell_type": "code",
   "execution_count": 15,
   "metadata": {},
   "outputs": [],
   "source": [
    "n_epoch = 5\n",
    "rnn = RNN_Batch()\n",
    "optimizer = torch.optim.Adam(rnn.parameters(), lr=learning_rate)\n",
    "loss_func = nn.CrossEntropyLoss()"
   ]
  },
  {
   "cell_type": "code",
   "execution_count": 16,
   "metadata": {},
   "outputs": [],
   "source": [
    "batch = [embedded_seq_tensor,target_tensor]"
   ]
  },
  {
   "cell_type": "code",
   "execution_count": 17,
   "metadata": {},
   "outputs": [
    {
     "name": "stdout",
     "output_type": "stream",
     "text": [
      "Epoch:  0 | train loss: 2.9749 | test accuracy: 0.013799\n",
      "Epoch:  1 | train loss: 2.0730 | test accuracy: 0.468616\n",
      "Epoch:  2 | train loss: 1.9344 | test accuracy: 0.468616\n",
      "Epoch:  3 | train loss: 1.8911 | test accuracy: 0.468616\n",
      "Epoch:  4 | train loss: 1.8973 | test accuracy: 0.468616\n"
     ]
    }
   ],
   "source": [
    "x = batch[0]\n",
    "y = batch[1]\n",
    "n_epoch = 5\n",
    "for epoch in range(n_epoch): \n",
    "    optimizer.zero_grad()\n",
    "    output = rnn(x)\n",
    "    loss = loss_func(output, y) \n",
    "    loss.backward(retain_graph=True)\n",
    "    optimizer.step()\n",
    "    pred = torch.max(output, 1)[1]\n",
    "    accuracy = accuracy_score(y, pred)\n",
    "    print(\"Epoch: \", epoch, \"| train loss: %.4f\" % loss.item(), '| test accuracy: %f' % accuracy)"
   ]
  },
  {
   "cell_type": "markdown",
   "metadata": {},
   "source": [
    "## 2.2 batch size = 1000, 2000, 5000 respectively"
   ]
  },
  {
   "cell_type": "code",
   "execution_count": 18,
   "metadata": {
    "scrolled": true
   },
   "outputs": [
    {
     "name": "stdout",
     "output_type": "stream",
     "text": [
      "======= 2.2 Accuracy Report =======\n",
      "Batch Size = 1000\n",
      "Epoch:  0 | train loss: 1.8479 | test accuracy: 0.469200\n",
      "Epoch:  1 | train loss: 1.8451 | test accuracy: 0.468600\n",
      "Epoch:  2 | train loss: 1.8444 | test accuracy: 0.468700\n",
      "Epoch:  3 | train loss: 1.8447 | test accuracy: 0.468650\n",
      "Epoch:  4 | train loss: 1.8443 | test accuracy: 0.468500\n",
      "Epoch:  5 | train loss: 1.8432 | test accuracy: 0.469000\n",
      "Epoch:  6 | train loss: 1.8431 | test accuracy: 0.468850\n",
      "Epoch:  7 | train loss: 1.8436 | test accuracy: 0.468750\n",
      "Epoch:  8 | train loss: 1.8436 | test accuracy: 0.468850\n",
      "Epoch:  9 | train loss: 1.8443 | test accuracy: 0.468500\n",
      "Epoch:  10 | train loss: 1.8446 | test accuracy: 0.468250\n",
      "Epoch:  11 | train loss: 1.8448 | test accuracy: 0.468150\n",
      "Epoch:  12 | train loss: 1.8274 | test accuracy: 0.468600\n",
      "Epoch:  13 | train loss: 1.8254 | test accuracy: 0.468650\n",
      "Epoch:  14 | train loss: 1.7998 | test accuracy: 0.468450\n",
      "Epoch:  15 | train loss: 1.8019 | test accuracy: 0.468350\n",
      "Epoch:  16 | train loss: 1.8462 | test accuracy: 0.468400\n",
      "Epoch:  17 | train loss: 1.8445 | test accuracy: 0.468700\n",
      "Epoch:  18 | train loss: 1.8452 | test accuracy: 0.468650\n",
      "Epoch:  19 | train loss: 1.8431 | test accuracy: 0.468800\n",
      "Batch Size = 2000\n",
      "Epoch:  0 | train loss: 1.8670 | test accuracy: 0.468750\n",
      "Epoch:  1 | train loss: 1.8515 | test accuracy: 0.468850\n",
      "Epoch:  2 | train loss: 1.8454 | test accuracy: 0.468650\n",
      "Epoch:  3 | train loss: 1.8470 | test accuracy: 0.468650\n",
      "Epoch:  4 | train loss: 1.8452 | test accuracy: 0.468600\n",
      "Epoch:  5 | train loss: 1.8448 | test accuracy: 0.468600\n",
      "Epoch:  6 | train loss: 1.8445 | test accuracy: 0.469000\n",
      "Epoch:  7 | train loss: 1.8446 | test accuracy: 0.468850\n",
      "Epoch:  8 | train loss: 1.8451 | test accuracy: 0.468750\n",
      "Epoch:  9 | train loss: 1.8461 | test accuracy: 0.468550\n",
      "Batch Size = 5000\n",
      "Epoch:  0 | train loss: 1.8806 | test accuracy: 0.469100\n",
      "Epoch:  1 | train loss: 1.8701 | test accuracy: 0.468950\n",
      "Epoch:  2 | train loss: 1.8598 | test accuracy: 0.468450\n",
      "Epoch:  3 | train loss: 1.8525 | test accuracy: 0.468750\n"
     ]
    }
   ],
   "source": [
    "print('======= 2.2 Accuracy Report =======')\n",
    "batch_sizes = [1000, 2000, 5000]\n",
    "N = 20000\n",
    "for batch_size in batch_sizes:\n",
    "    print('Batch Size =', batch_size)\n",
    "    rnn = RNN_Batch()\n",
    "    optimizer = torch.optim.Adam(rnn.parameters(), lr=learning_rate)\n",
    "    loss_func = nn.CrossEntropyLoss()\n",
    "    n_epoch = int(N/batch_size)\n",
    "    for epoch in range(n_epoch):\n",
    "        samples = random.sample(list(randomize_order), 20000)\n",
    "        sample_index = [samples[i * batch_size:(i + 1) * batch_size] for i in range((len(samples) + batch_size - 1) // batch_size )]\n",
    "        batch_tensors = []\n",
    "        target_tensors = []\n",
    "        sample = []\n",
    "        target_output = []\n",
    "        for index in sample_index:\n",
    "            for i in index:\n",
    "                sample.append(DF[0][i])\n",
    "                target_output.append(DF[1][i])\n",
    "            vectorized_seqs = [[feature.index(tok) for tok in seq]for seq in sample]\n",
    "            seq_lengths = LongTensor(list(map(len, vectorized_seqs)))\n",
    "            seq_tensor = Variable(torch.zeros((len(vectorized_seqs), seq_lengths.max()))).long()\n",
    "            for idx, (seq, seqlen) in enumerate(zip(vectorized_seqs, seq_lengths)):\n",
    "                seq_tensor[idx, :seqlen] = LongTensor(seq)\n",
    "            embedded_seq_tensor = embed(seq_tensor)\n",
    "            batch_tensors.append(embedded_seq_tensor)\n",
    "            vectorized_y = [target.index(tok) for tok in target_output]\n",
    "            target_tensor = torch.tensor(vectorized_y,dtype = torch.long)\n",
    "            target_tensors.append(target_tensor)  \n",
    "        for j in range(n_epoch):\n",
    "            batch = [batch_tensors[j],target_tensors[j]]\n",
    "            x = batch[0]\n",
    "            y = batch[1]\n",
    "            optimizer.zero_grad()\n",
    "            output = rnn(x)\n",
    "            loss = loss_func(output, y) \n",
    "            loss.backward(retain_graph=True)\n",
    "            optimizer.step()\n",
    "        test_output = rnn(embedded_seq_tensor)\n",
    "        pred = torch.max(test_output, 1)[1]\n",
    "        accuracy = accuracy_score(y, pred)\n",
    "        print(\"Epoch: \", epoch, \"| train loss: %.4f\" % loss.item(), '| test accuracy: %f' % accuracy)"
   ]
  },
  {
   "cell_type": "markdown",
   "metadata": {},
   "source": [
    "# 3. Model cross-validation "
   ]
  },
  {
   "cell_type": "code",
   "execution_count": 20,
   "metadata": {},
   "outputs": [
    {
     "name": "stdout",
     "output_type": "stream",
     "text": [
      "['Abl', 'Adsit', 'Ajdrna', 'Alt', 'Antonowitsch']\n",
      "[[5, 32, 42], [5, 34, 49, 39, 50], [5, 40, 34, 48, 44, 31], [5, 42, 50], [5, 44, 50, 45, 44, 45, 53, 39, 50, 49, 33, 38]]\n",
      "tensor([[ 5, 32, 42,  ...,  0,  0,  0],\n",
      "        [ 5, 34, 49,  ...,  0,  0,  0],\n",
      "        [ 5, 40, 34,  ...,  0,  0,  0],\n",
      "        ...,\n",
      "        [30, 39, 35,  ...,  0,  0,  0],\n",
      "        [30, 39, 35,  ...,  0,  0,  0],\n",
      "        [30, 51, 48,  ...,  0,  0,  0]])\n",
      "tensor([[[-0.7744,  0.3698,  0.9219,  ..., -0.6118, -1.7142, -1.8890],\n",
      "         [ 0.8413,  0.8452, -1.0291,  ...,  1.1406,  0.1517,  0.5034],\n",
      "         [-0.8275, -0.3539,  0.1247,  ..., -0.4671, -0.7459,  0.1421],\n",
      "         ...,\n",
      "         [ 0.6267, -1.3525, -0.3377,  ..., -0.5377,  1.2227,  1.8313],\n",
      "         [ 0.6267, -1.3525, -0.3377,  ..., -0.5377,  1.2227,  1.8313],\n",
      "         [ 0.6267, -1.3525, -0.3377,  ..., -0.5377,  1.2227,  1.8313]],\n",
      "\n",
      "        [[-0.7744,  0.3698,  0.9219,  ..., -0.6118, -1.7142, -1.8890],\n",
      "         [-1.2777,  0.7223, -0.2370,  ...,  1.2624, -0.1436, -1.3417],\n",
      "         [ 1.1857, -0.6201, -0.5622,  ..., -0.4883,  1.0047, -1.3287],\n",
      "         ...,\n",
      "         [ 0.6267, -1.3525, -0.3377,  ..., -0.5377,  1.2227,  1.8313],\n",
      "         [ 0.6267, -1.3525, -0.3377,  ..., -0.5377,  1.2227,  1.8313],\n",
      "         [ 0.6267, -1.3525, -0.3377,  ..., -0.5377,  1.2227,  1.8313]],\n",
      "\n",
      "        [[-0.7744,  0.3698,  0.9219,  ..., -0.6118, -1.7142, -1.8890],\n",
      "         [ 0.1929,  0.5321,  0.5219,  ...,  1.3514,  0.1008,  0.4194],\n",
      "         [-1.2777,  0.7223, -0.2370,  ...,  1.2624, -0.1436, -1.3417],\n",
      "         ...,\n",
      "         [ 0.6267, -1.3525, -0.3377,  ..., -0.5377,  1.2227,  1.8313],\n",
      "         [ 0.6267, -1.3525, -0.3377,  ..., -0.5377,  1.2227,  1.8313],\n",
      "         [ 0.6267, -1.3525, -0.3377,  ..., -0.5377,  1.2227,  1.8313]],\n",
      "\n",
      "        ...,\n",
      "\n",
      "        [[-0.4895,  0.8028, -1.2876,  ..., -2.0460, -0.2125, -0.0678],\n",
      "         [-1.2134, -0.5537, -0.9866,  ...,  0.7096,  0.7137, -0.0542],\n",
      "         [ 1.2043,  0.2999, -0.5152,  ...,  1.4817, -0.0436, -1.3470],\n",
      "         ...,\n",
      "         [ 0.6267, -1.3525, -0.3377,  ..., -0.5377,  1.2227,  1.8313],\n",
      "         [ 0.6267, -1.3525, -0.3377,  ..., -0.5377,  1.2227,  1.8313],\n",
      "         [ 0.6267, -1.3525, -0.3377,  ..., -0.5377,  1.2227,  1.8313]],\n",
      "\n",
      "        [[-0.4895,  0.8028, -1.2876,  ..., -2.0460, -0.2125, -0.0678],\n",
      "         [-1.2134, -0.5537, -0.9866,  ...,  0.7096,  0.7137, -0.0542],\n",
      "         [ 1.2043,  0.2999, -0.5152,  ...,  1.4817, -0.0436, -1.3470],\n",
      "         ...,\n",
      "         [ 0.6267, -1.3525, -0.3377,  ..., -0.5377,  1.2227,  1.8313],\n",
      "         [ 0.6267, -1.3525, -0.3377,  ..., -0.5377,  1.2227,  1.8313],\n",
      "         [ 0.6267, -1.3525, -0.3377,  ..., -0.5377,  1.2227,  1.8313]],\n",
      "\n",
      "        [[-0.4895,  0.8028, -1.2876,  ..., -2.0460, -0.2125, -0.0678],\n",
      "         [-1.4625,  0.9555,  1.0376,  ..., -1.0735, -0.8524, -0.4943],\n",
      "         [-0.2923, -1.1496,  0.7443,  ..., -0.6274, -0.0539, -0.9482],\n",
      "         ...,\n",
      "         [ 0.6267, -1.3525, -0.3377,  ..., -0.5377,  1.2227,  1.8313],\n",
      "         [ 0.6267, -1.3525, -0.3377,  ..., -0.5377,  1.2227,  1.8313],\n",
      "         [ 0.6267, -1.3525, -0.3377,  ..., -0.5377,  1.2227,  1.8313]]],\n",
      "       grad_fn=<EmbeddingBackward>)\n",
      "torch.Size([20074, 19, 57])\n",
      "['Czech', 'Czech', 'Czech', 'Czech', 'Czech']\n",
      "[2, 2, 2, 2, 2]\n",
      "torch.Size([20074])\n"
     ]
    }
   ],
   "source": [
    "feature = sorted(set(all_letters))\n",
    "vectorized_seqs = [[feature.index(tok) for tok in seq]for seq in DF[0]]\n",
    "print(DF[0][:5])\n",
    "print(vectorized_seqs[:5])\n",
    "embed = Embedding(len(feature), n_letters)\n",
    "seq_lengths = LongTensor(list(map(len, vectorized_seqs)))\n",
    "seq_tensor = Variable(torch.zeros((len(vectorized_seqs), seq_lengths.max()))).long()\n",
    "for idx, (seq, seqlen) in enumerate(zip(vectorized_seqs, seq_lengths)):\n",
    "    seq_tensor[idx, :seqlen] = LongTensor(seq)\n",
    "print(seq_tensor)\n",
    "embedded_seq_tensor = embed(seq_tensor)\n",
    "print(embedded_seq_tensor)\n",
    "print(embedded_seq_tensor.shape)\n",
    "target = sorted(set(all_categories))\n",
    "vectorized_y = [target.index(tok) for tok in DF[1]]\n",
    "print(DF[1][:5])\n",
    "print(vectorized_y[:5])\n",
    "target_tensor = torch.tensor(vectorized_y,dtype = torch.long)\n",
    "print(target_tensor.shape)"
   ]
  },
  {
   "cell_type": "markdown",
   "metadata": {},
   "source": [
    "## 3.1 Five-fold Cross-Validation for RNN"
   ]
  },
  {
   "cell_type": "code",
   "execution_count": 24,
   "metadata": {},
   "outputs": [
    {
     "name": "stdout",
     "output_type": "stream",
     "text": [
      "======= 3.1 Accuracy Report =======\n",
      "Epoch:  0 | Train Loss: 1.9036 | Test accuracy: 0.468666\n",
      "Epoch:  1 | Train Loss: 1.8698 | Test accuracy: 0.468666\n",
      "Epoch:  2 | Train Loss: 1.8630 | Test accuracy: 0.468666\n",
      "Epoch:  3 | Train Loss: 1.8613 | Test accuracy: 0.468667\n",
      "Epoch:  4 | Train Loss: 1.8465 | Test accuracy: 0.468666\n"
     ]
    }
   ],
   "source": [
    "print('======= 3.1 Accuracy Report =======')\n",
    "kfold_cv = KFold(n_splits=5, random_state=None, shuffle=True)\n",
    "rnn = RNN_Batch()\n",
    "optimizer = torch.optim.Adam(rnn.parameters(), lr=learning_rate)\n",
    "loss_func = nn.CrossEntropyLoss()\n",
    "n_epoch = 5 \n",
    "for epoch in range(n_epoch):\n",
    "    accuracies = []\n",
    "    for train_index, test_index in kfold_cv.split(np.arange(0, total_samples)):\n",
    "        X_train, X_test, y_train, y_test = embedded_seq_tensor[train_index], embedded_seq_tensor[test_index], target_tensor[train_index], target_tensor[test_index]\n",
    "        optimizer.zero_grad()\n",
    "        output = rnn(X_train)\n",
    "        loss = loss_func(output, y_train) \n",
    "        loss.backward(retain_graph=True)\n",
    "        optimizer.step()\n",
    "        test_output = rnn(X_test)\n",
    "        pred = torch.max(test_output, 1)[1]\n",
    "        accuracies.append(accuracy_score(y_test, pred))\n",
    "    print(\"Epoch: \", epoch, \"| Train Loss: %.4f\" % loss.item(), '| Test accuracy: %f' % np.mean(accuracies))"
   ]
  },
  {
   "cell_type": "markdown",
   "metadata": {},
   "source": [
    "## 3.2 LSTM"
   ]
  },
  {
   "cell_type": "code",
   "execution_count": 25,
   "metadata": {},
   "outputs": [],
   "source": [
    "class LSTM(nn.Module):\n",
    "    def __init__(self):\n",
    "        super(LSTM, self).__init__()\n",
    "\n",
    "        self.rnn = nn.LSTM(\n",
    "            input_size = n_letters,\n",
    "            hidden_size = 128,\n",
    "            num_layers = 1,\n",
    "            batch_first = True,\n",
    "        )\n",
    "        self.out = nn.Linear(128, n_categories)\n",
    "\n",
    "    def forward(self, x):\n",
    "        # x shape (batch, time_step, input_size)\n",
    "        # r_out shape (batch, time_step, output_size)\n",
    "        # h_n shape (n_layers, batch, hidden_size)\n",
    "        # h_c shape (n_layers, batch, hidden_size)\n",
    "        r_out, (h_n, h_c) = self.rnn(x, None)   # None represents zero initial hidden state\n",
    "\n",
    "        # choose last time step of r_out\n",
    "        out = self.out(r_out[:, -1, :])\n",
    "        return out"
   ]
  },
  {
   "cell_type": "code",
   "execution_count": 26,
   "metadata": {},
   "outputs": [
    {
     "name": "stdout",
     "output_type": "stream",
     "text": [
      "======= 3.2 Accuracy Report =======\n",
      "Epoch:  0 | train loss: 2.8178 | test accuracy: 0.011557\n",
      "Epoch:  1 | train loss: 2.2524 | test accuracy: 0.468616\n",
      "Epoch:  2 | train loss: 1.9485 | test accuracy: 0.468616\n",
      "Epoch:  3 | train loss: 1.9272 | test accuracy: 0.468616\n",
      "Epoch:  4 | train loss: 1.8987 | test accuracy: 0.468616\n"
     ]
    }
   ],
   "source": [
    "print('======= 3.2 Accuracy Report =======')\n",
    "lstm = LSTM()\n",
    "optimizer = torch.optim.Adam(lstm.parameters(), lr=learning_rate)\n",
    "loss_func = nn.CrossEntropyLoss()\n",
    "n_epoch = 5\n",
    "for epoch in range(n_epoch):\n",
    "    optimizer.zero_grad()\n",
    "    output = lstm(embedded_seq_tensor)  \n",
    "    loss = loss_func(output, target_tensor) \n",
    "    loss.backward(retain_graph=True) \n",
    "    optimizer.step()\n",
    "    pred = torch.max(output, 1)[1]\n",
    "    accuracy = accuracy_score(target_tensor, pred)\n",
    "    print(\"Epoch: \", epoch, \"| train loss: %.4f\" % loss.item(), '| test accuracy: %f' % accuracy)"
   ]
  },
  {
   "cell_type": "markdown",
   "metadata": {},
   "source": [
    "## 3.3 Stratified-Five-Fold Cross-Validation"
   ]
  },
  {
   "cell_type": "code",
   "execution_count": 29,
   "metadata": {},
   "outputs": [
    {
     "name": "stdout",
     "output_type": "stream",
     "text": [
      "======= 3.3 Accuracy Report =======\n",
      "Epoch:  0 | Train Loss: 1.9101 | Test accuracy: 0.468617\n",
      "Epoch:  1 | Train Loss: 1.8583 | Test accuracy: 0.468617\n",
      "Epoch:  2 | Train Loss: 1.8575 | Test accuracy: 0.468617\n",
      "Epoch:  3 | Train Loss: 1.8547 | Test accuracy: 0.468617\n",
      "Epoch:  4 | Train Loss: 1.8494 | Test accuracy: 0.468617\n"
     ]
    }
   ],
   "source": [
    "print('======= 3.3 Accuracy Report =======')\n",
    "skfold_cv = StratifiedKFold(n_splits=5)\n",
    "rnn = RNN_Batch()\n",
    "optimizer = torch.optim.Adam(rnn.parameters(), lr=learning_rate)\n",
    "loss_func = nn.CrossEntropyLoss()\n",
    "n_epoch = 5 \n",
    "for epoch in range(n_epoch):\n",
    "    accuracies = []\n",
    "    for Train, Test in skfold_cv.split(embedded_seq_tensor,target_tensor):\n",
    "        optimizer.zero_grad()\n",
    "        output = rnn(embedded_seq_tensor[Train])\n",
    "        loss = loss_func(output, target_tensor[Train]) \n",
    "        loss.backward(retain_graph=True)\n",
    "        optimizer.step()\n",
    "        test_output = rnn(embedded_seq_tensor[Test])\n",
    "        pred = torch.max(test_output, 1)[1]\n",
    "        accuracy = accuracy_score(target_tensor[Test], pred)\n",
    "        accuracies.append(accuracy)\n",
    "    print(\"Epoch: \", epoch, \"| Train Loss: %.4f\" % loss.item(), '| Test accuracy: %f' % np.mean(accuracies))"
   ]
  },
  {
   "cell_type": "code",
   "execution_count": null,
   "metadata": {},
   "outputs": [],
   "source": []
  }
 ],
 "metadata": {
  "kernelspec": {
   "display_name": "Python 3",
   "language": "python",
   "name": "python3"
  },
  "language_info": {
   "codemirror_mode": {
    "name": "ipython",
    "version": 3
   },
   "file_extension": ".py",
   "mimetype": "text/x-python",
   "name": "python",
   "nbconvert_exporter": "python",
   "pygments_lexer": "ipython3",
   "version": "3.7.4"
  }
 },
 "nbformat": 4,
 "nbformat_minor": 2
}
